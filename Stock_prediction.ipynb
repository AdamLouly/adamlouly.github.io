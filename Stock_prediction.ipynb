{
  "nbformat": 4,
  "nbformat_minor": 0,
  "metadata": {
    "colab": {
      "name": "Stock prediction",
      "version": "0.3.2",
      "provenance": [],
      "collapsed_sections": [],
      "toc_visible": true,
      "include_colab_link": true
    },
    "kernelspec": {
      "name": "python3",
      "display_name": "Python 3"
    }
  },
  "cells": [
    {
      "cell_type": "markdown",
      "metadata": {
        "id": "view-in-github",
        "colab_type": "text"
      },
      "source": [
        "<a href=\"https://colab.research.google.com/github/AdamLouly/AdamLouly.github.io/blob/master/Stock_prediction.ipynb\" target=\"_parent\"><img src=\"https://colab.research.google.com/assets/colab-badge.svg\" alt=\"Open In Colab\"/></a>"
      ]
    },
    {
      "metadata": {
        "id": "aYPFXudiOUoH",
        "colab_type": "text"
      },
      "cell_type": "markdown",
      "source": [
        "# **Stock Price Prediction (AMAZON: AMZN)**\n",
        "In this Notebook, we will use Linear Regression to predict stock prices thirty days into the future. This notebook is written in order to complete an academic project in Data Mining\n",
        "\n",
        "\n"
      ]
    },
    {
      "metadata": {
        "id": "bv_qB9hIOyIp",
        "colab_type": "code",
        "outputId": "b8fe5518-9c0e-41df-a759-1c9b105aa12e",
        "colab": {
          "base_uri": "https://localhost:8080/",
          "height": 423
        }
      },
      "cell_type": "code",
      "source": [
        "!pip3 install quandl\n",
        "import quandl #for stock Data\n",
        "import pandas as pd\n",
        "import numpy as np\n",
        "import datetime\n",
        "\n",
        "from sklearn.linear_model import LinearRegression\n",
        "from sklearn import preprocessing, cross_validation, svm"
      ],
      "execution_count": 0,
      "outputs": [
        {
          "output_type": "stream",
          "text": [
            "Collecting quandl\n",
            "  Downloading https://files.pythonhosted.org/packages/03/ad/d6c0e4a919a9b17300b32cd987cf11a3b13660852930b32d9f330120e48b/Quandl-3.4.5-py2.py3-none-any.whl\n",
            "Requirement already satisfied: six in /usr/local/lib/python3.6/dist-packages (from quandl) (1.11.0)\n",
            "Requirement already satisfied: pandas>=0.14 in /usr/local/lib/python3.6/dist-packages (from quandl) (0.22.0)\n",
            "Collecting inflection>=0.3.1 (from quandl)\n",
            "  Downloading https://files.pythonhosted.org/packages/d5/35/a6eb45b4e2356fe688b21570864d4aa0d0a880ce387defe9c589112077f8/inflection-0.3.1.tar.gz\n",
            "Requirement already satisfied: python-dateutil in /usr/local/lib/python3.6/dist-packages (from quandl) (2.5.3)\n",
            "Requirement already satisfied: numpy>=1.8 in /usr/local/lib/python3.6/dist-packages (from quandl) (1.14.6)\n",
            "Requirement already satisfied: more-itertools in /usr/local/lib/python3.6/dist-packages (from quandl) (4.3.0)\n",
            "Requirement already satisfied: requests>=2.7.0 in /usr/local/lib/python3.6/dist-packages (from quandl) (2.18.4)\n",
            "Requirement already satisfied: pytz>=2011k in /usr/local/lib/python3.6/dist-packages (from pandas>=0.14->quandl) (2018.7)\n",
            "Requirement already satisfied: idna<2.7,>=2.5 in /usr/local/lib/python3.6/dist-packages (from requests>=2.7.0->quandl) (2.6)\n",
            "Requirement already satisfied: certifi>=2017.4.17 in /usr/local/lib/python3.6/dist-packages (from requests>=2.7.0->quandl) (2018.10.15)\n",
            "Requirement already satisfied: urllib3<1.23,>=1.21.1 in /usr/local/lib/python3.6/dist-packages (from requests>=2.7.0->quandl) (1.22)\n",
            "Requirement already satisfied: chardet<3.1.0,>=3.0.2 in /usr/local/lib/python3.6/dist-packages (from requests>=2.7.0->quandl) (3.0.4)\n",
            "Building wheels for collected packages: inflection\n",
            "  Running setup.py bdist_wheel for inflection ... \u001b[?25l-\b \bdone\n",
            "\u001b[?25h  Stored in directory: /root/.cache/pip/wheels/9f/5a/d3/6fc3bf6516d2a3eb7e18f9f28b472110b59325f3f258fe9211\n",
            "Successfully built inflection\n",
            "Installing collected packages: inflection, quandl\n",
            "Successfully installed inflection-0.3.1 quandl-3.4.5\n"
          ],
          "name": "stdout"
        },
        {
          "output_type": "stream",
          "text": [
            "/usr/local/lib/python3.6/dist-packages/sklearn/cross_validation.py:41: DeprecationWarning: This module was deprecated in version 0.18 in favor of the model_selection module into which all the refactored classes and functions are moved. Also note that the interface of the new CV iterators are different from that of this module. This module will be removed in 0.20.\n",
            "  \"This module will be removed in 0.20.\", DeprecationWarning)\n"
          ],
          "name": "stderr"
        }
      ]
    },
    {
      "metadata": {
        "id": "d2b43HzrRILh",
        "colab_type": "text"
      },
      "cell_type": "markdown",
      "source": [
        "#**To get our stock data, we can set our dataframe to quandl.get(\"WIKI/[NAME OF STOCK]\"). In this tutorial, I will use Amazon, but you can choose any stock you wish.**\n"
      ]
    },
    {
      "metadata": {
        "id": "bA8nrCecSv4V",
        "colab_type": "code",
        "outputId": "7b2db4fc-396d-4160-af70-9a9dde75f686",
        "colab": {
          "base_uri": "https://localhost:8080/",
          "height": 373
        }
      },
      "cell_type": "code",
      "source": [
        "df = quandl.get(\"WIKI/AMZN\")\n",
        "df.head(10)"
      ],
      "execution_count": 0,
      "outputs": [
        {
          "output_type": "execute_result",
          "data": {
            "text/html": [
              "<div>\n",
              "<style scoped>\n",
              "    .dataframe tbody tr th:only-of-type {\n",
              "        vertical-align: middle;\n",
              "    }\n",
              "\n",
              "    .dataframe tbody tr th {\n",
              "        vertical-align: top;\n",
              "    }\n",
              "\n",
              "    .dataframe thead th {\n",
              "        text-align: right;\n",
              "    }\n",
              "</style>\n",
              "<table border=\"1\" class=\"dataframe\">\n",
              "  <thead>\n",
              "    <tr style=\"text-align: right;\">\n",
              "      <th></th>\n",
              "      <th>Open</th>\n",
              "      <th>High</th>\n",
              "      <th>Low</th>\n",
              "      <th>Close</th>\n",
              "      <th>Volume</th>\n",
              "      <th>Ex-Dividend</th>\n",
              "      <th>Split Ratio</th>\n",
              "      <th>Adj. Open</th>\n",
              "      <th>Adj. High</th>\n",
              "      <th>Adj. Low</th>\n",
              "      <th>Adj. Close</th>\n",
              "      <th>Adj. Volume</th>\n",
              "    </tr>\n",
              "    <tr>\n",
              "      <th>Date</th>\n",
              "      <th></th>\n",
              "      <th></th>\n",
              "      <th></th>\n",
              "      <th></th>\n",
              "      <th></th>\n",
              "      <th></th>\n",
              "      <th></th>\n",
              "      <th></th>\n",
              "      <th></th>\n",
              "      <th></th>\n",
              "      <th></th>\n",
              "      <th></th>\n",
              "    </tr>\n",
              "  </thead>\n",
              "  <tbody>\n",
              "    <tr>\n",
              "      <th>1997-05-16</th>\n",
              "      <td>22.38</td>\n",
              "      <td>23.75</td>\n",
              "      <td>20.50</td>\n",
              "      <td>20.75</td>\n",
              "      <td>1225000.0</td>\n",
              "      <td>0.0</td>\n",
              "      <td>1.0</td>\n",
              "      <td>1.865000</td>\n",
              "      <td>1.979167</td>\n",
              "      <td>1.708333</td>\n",
              "      <td>1.729167</td>\n",
              "      <td>14700000.0</td>\n",
              "    </tr>\n",
              "    <tr>\n",
              "      <th>1997-05-19</th>\n",
              "      <td>20.50</td>\n",
              "      <td>21.25</td>\n",
              "      <td>19.50</td>\n",
              "      <td>20.50</td>\n",
              "      <td>508900.0</td>\n",
              "      <td>0.0</td>\n",
              "      <td>1.0</td>\n",
              "      <td>1.708333</td>\n",
              "      <td>1.770833</td>\n",
              "      <td>1.625000</td>\n",
              "      <td>1.708333</td>\n",
              "      <td>6106800.0</td>\n",
              "    </tr>\n",
              "    <tr>\n",
              "      <th>1997-05-20</th>\n",
              "      <td>20.75</td>\n",
              "      <td>21.00</td>\n",
              "      <td>19.63</td>\n",
              "      <td>19.63</td>\n",
              "      <td>455600.0</td>\n",
              "      <td>0.0</td>\n",
              "      <td>1.0</td>\n",
              "      <td>1.729167</td>\n",
              "      <td>1.750000</td>\n",
              "      <td>1.635833</td>\n",
              "      <td>1.635833</td>\n",
              "      <td>5467200.0</td>\n",
              "    </tr>\n",
              "    <tr>\n",
              "      <th>1997-05-21</th>\n",
              "      <td>19.25</td>\n",
              "      <td>19.75</td>\n",
              "      <td>16.50</td>\n",
              "      <td>17.13</td>\n",
              "      <td>1571100.0</td>\n",
              "      <td>0.0</td>\n",
              "      <td>1.0</td>\n",
              "      <td>1.604167</td>\n",
              "      <td>1.645833</td>\n",
              "      <td>1.375000</td>\n",
              "      <td>1.427500</td>\n",
              "      <td>18853200.0</td>\n",
              "    </tr>\n",
              "    <tr>\n",
              "      <th>1997-05-22</th>\n",
              "      <td>17.25</td>\n",
              "      <td>17.38</td>\n",
              "      <td>15.75</td>\n",
              "      <td>16.75</td>\n",
              "      <td>981400.0</td>\n",
              "      <td>0.0</td>\n",
              "      <td>1.0</td>\n",
              "      <td>1.437500</td>\n",
              "      <td>1.448333</td>\n",
              "      <td>1.312500</td>\n",
              "      <td>1.395833</td>\n",
              "      <td>11776800.0</td>\n",
              "    </tr>\n",
              "    <tr>\n",
              "      <th>1997-05-23</th>\n",
              "      <td>16.88</td>\n",
              "      <td>18.25</td>\n",
              "      <td>16.00</td>\n",
              "      <td>18.00</td>\n",
              "      <td>1328100.0</td>\n",
              "      <td>0.0</td>\n",
              "      <td>1.0</td>\n",
              "      <td>1.406667</td>\n",
              "      <td>1.520833</td>\n",
              "      <td>1.333333</td>\n",
              "      <td>1.500000</td>\n",
              "      <td>15937200.0</td>\n",
              "    </tr>\n",
              "    <tr>\n",
              "      <th>1997-05-27</th>\n",
              "      <td>17.75</td>\n",
              "      <td>19.75</td>\n",
              "      <td>17.50</td>\n",
              "      <td>19.00</td>\n",
              "      <td>724800.0</td>\n",
              "      <td>0.0</td>\n",
              "      <td>1.0</td>\n",
              "      <td>1.479167</td>\n",
              "      <td>1.645833</td>\n",
              "      <td>1.458333</td>\n",
              "      <td>1.583333</td>\n",
              "      <td>8697600.0</td>\n",
              "    </tr>\n",
              "    <tr>\n",
              "      <th>1997-05-28</th>\n",
              "      <td>19.31</td>\n",
              "      <td>19.63</td>\n",
              "      <td>18.38</td>\n",
              "      <td>18.38</td>\n",
              "      <td>381200.0</td>\n",
              "      <td>0.0</td>\n",
              "      <td>1.0</td>\n",
              "      <td>1.609167</td>\n",
              "      <td>1.635833</td>\n",
              "      <td>1.531667</td>\n",
              "      <td>1.531667</td>\n",
              "      <td>4574400.0</td>\n",
              "    </tr>\n",
              "    <tr>\n",
              "      <th>1997-05-29</th>\n",
              "      <td>18.50</td>\n",
              "      <td>18.50</td>\n",
              "      <td>17.75</td>\n",
              "      <td>18.06</td>\n",
              "      <td>289400.0</td>\n",
              "      <td>0.0</td>\n",
              "      <td>1.0</td>\n",
              "      <td>1.541667</td>\n",
              "      <td>1.541667</td>\n",
              "      <td>1.479167</td>\n",
              "      <td>1.505000</td>\n",
              "      <td>3472800.0</td>\n",
              "    </tr>\n",
              "    <tr>\n",
              "      <th>1997-05-30</th>\n",
              "      <td>18.00</td>\n",
              "      <td>18.13</td>\n",
              "      <td>17.75</td>\n",
              "      <td>18.00</td>\n",
              "      <td>216200.0</td>\n",
              "      <td>0.0</td>\n",
              "      <td>1.0</td>\n",
              "      <td>1.500000</td>\n",
              "      <td>1.510833</td>\n",
              "      <td>1.479167</td>\n",
              "      <td>1.500000</td>\n",
              "      <td>2594400.0</td>\n",
              "    </tr>\n",
              "  </tbody>\n",
              "</table>\n",
              "</div>"
            ],
            "text/plain": [
              "             Open   High    Low  Close     Volume  Ex-Dividend  Split Ratio  \\\n",
              "Date                                                                          \n",
              "1997-05-16  22.38  23.75  20.50  20.75  1225000.0          0.0          1.0   \n",
              "1997-05-19  20.50  21.25  19.50  20.50   508900.0          0.0          1.0   \n",
              "1997-05-20  20.75  21.00  19.63  19.63   455600.0          0.0          1.0   \n",
              "1997-05-21  19.25  19.75  16.50  17.13  1571100.0          0.0          1.0   \n",
              "1997-05-22  17.25  17.38  15.75  16.75   981400.0          0.0          1.0   \n",
              "1997-05-23  16.88  18.25  16.00  18.00  1328100.0          0.0          1.0   \n",
              "1997-05-27  17.75  19.75  17.50  19.00   724800.0          0.0          1.0   \n",
              "1997-05-28  19.31  19.63  18.38  18.38   381200.0          0.0          1.0   \n",
              "1997-05-29  18.50  18.50  17.75  18.06   289400.0          0.0          1.0   \n",
              "1997-05-30  18.00  18.13  17.75  18.00   216200.0          0.0          1.0   \n",
              "\n",
              "            Adj. Open  Adj. High  Adj. Low  Adj. Close  Adj. Volume  \n",
              "Date                                                                 \n",
              "1997-05-16   1.865000   1.979167  1.708333    1.729167   14700000.0  \n",
              "1997-05-19   1.708333   1.770833  1.625000    1.708333    6106800.0  \n",
              "1997-05-20   1.729167   1.750000  1.635833    1.635833    5467200.0  \n",
              "1997-05-21   1.604167   1.645833  1.375000    1.427500   18853200.0  \n",
              "1997-05-22   1.437500   1.448333  1.312500    1.395833   11776800.0  \n",
              "1997-05-23   1.406667   1.520833  1.333333    1.500000   15937200.0  \n",
              "1997-05-27   1.479167   1.645833  1.458333    1.583333    8697600.0  \n",
              "1997-05-28   1.609167   1.635833  1.531667    1.531667    4574400.0  \n",
              "1997-05-29   1.541667   1.541667  1.479167    1.505000    3472800.0  \n",
              "1997-05-30   1.500000   1.510833  1.479167    1.500000    2594400.0  "
            ]
          },
          "metadata": {
            "tags": []
          },
          "execution_count": 4
        }
      ]
    },
    {
      "metadata": {
        "id": "VnhXkqJeTWQH",
        "colab_type": "text"
      },
      "cell_type": "markdown",
      "source": [
        "#We will only use simple linear regression on this example using Adj. Close variable\n",
        "**An adjusted closing price is a stock's closing price on any given day of trading that has been amended to include any distributions and corporate actions that occurred at any time before the next day's open.\n",
        "**"
      ]
    },
    {
      "metadata": {
        "id": "pcw-GZ8ES41t",
        "colab_type": "code",
        "colab": {}
      },
      "cell_type": "code",
      "source": [
        "df = df[['Adj. Close']]"
      ],
      "execution_count": 0,
      "outputs": []
    },
    {
      "metadata": {
        "id": "Mr5JFYBiTzsN",
        "colab_type": "text"
      },
      "cell_type": "markdown",
      "source": [
        "**We want to predict 30 days into the future, so we’ll set a variable pred equal to that. Then, we need to create a new column in our dataframe which serves as our label which will be the output of our model later\n",
        "**"
      ]
    },
    {
      "metadata": {
        "id": "nURUrAEkTy2v",
        "colab_type": "code",
        "outputId": "c99ec3ae-abff-4447-d7a0-a626ccb65eaf",
        "colab": {
          "base_uri": "https://localhost:8080/",
          "height": 34
        }
      },
      "cell_type": "code",
      "source": [
        "pred = int(30) # predicting 30 days into future\n",
        "df['Prediction'] = df[['Adj. Close']].shift(-pred) #  label column with data shifted 30 units up\n",
        "df.shape"
      ],
      "execution_count": 0,
      "outputs": [
        {
          "output_type": "execute_result",
          "data": {
            "text/plain": [
              "(5248, 2)"
            ]
          },
          "metadata": {
            "tags": []
          },
          "execution_count": 7
        }
      ]
    },
    {
      "metadata": {
        "id": "O5U3y8DDUps4",
        "colab_type": "text"
      },
      "cell_type": "markdown",
      "source": [
        "# Defining Features & Labels\n",
        "**Our X will be an array consisting of our Adj. Close values, and so we should drop the Prediction column. We also want to scale our input values. Scaling our features allow us to normalize the data.**"
      ]
    },
    {
      "metadata": {
        "id": "l3o9b3BSUXBS",
        "colab_type": "code",
        "colab": {}
      },
      "cell_type": "code",
      "source": [
        "X = np.array(df.drop(['Prediction'], 1))\n",
        "X = preprocessing.scale(X)"
      ],
      "execution_count": 0,
      "outputs": []
    },
    {
      "metadata": {
        "id": "7JQPAyWsU-Iq",
        "colab_type": "text"
      },
      "cell_type": "markdown",
      "source": [
        "**Now, if you printed the dataframe after we created the Prediction column, you will find that for the last 30 days, there were NaNs, or no label data. We’ll set a new input variable to these days and remove them from the X array.**"
      ]
    },
    {
      "metadata": {
        "id": "H0jDrwWZU9RE",
        "colab_type": "code",
        "outputId": "af3b85f1-a17b-4931-8696-3c657e6b2d2a",
        "colab": {
          "base_uri": "https://localhost:8080/",
          "height": 225
        }
      },
      "cell_type": "code",
      "source": [
        "df.tail()"
      ],
      "execution_count": 0,
      "outputs": [
        {
          "output_type": "execute_result",
          "data": {
            "text/html": [
              "<div>\n",
              "<style scoped>\n",
              "    .dataframe tbody tr th:only-of-type {\n",
              "        vertical-align: middle;\n",
              "    }\n",
              "\n",
              "    .dataframe tbody tr th {\n",
              "        vertical-align: top;\n",
              "    }\n",
              "\n",
              "    .dataframe thead th {\n",
              "        text-align: right;\n",
              "    }\n",
              "</style>\n",
              "<table border=\"1\" class=\"dataframe\">\n",
              "  <thead>\n",
              "    <tr style=\"text-align: right;\">\n",
              "      <th></th>\n",
              "      <th>Adj. Close</th>\n",
              "      <th>Prediction</th>\n",
              "    </tr>\n",
              "    <tr>\n",
              "      <th>Date</th>\n",
              "      <th></th>\n",
              "      <th></th>\n",
              "    </tr>\n",
              "  </thead>\n",
              "  <tbody>\n",
              "    <tr>\n",
              "      <th>2018-03-21</th>\n",
              "      <td>1581.86</td>\n",
              "      <td>NaN</td>\n",
              "    </tr>\n",
              "    <tr>\n",
              "      <th>2018-03-22</th>\n",
              "      <td>1544.10</td>\n",
              "      <td>NaN</td>\n",
              "    </tr>\n",
              "    <tr>\n",
              "      <th>2018-03-23</th>\n",
              "      <td>1495.56</td>\n",
              "      <td>NaN</td>\n",
              "    </tr>\n",
              "    <tr>\n",
              "      <th>2018-03-26</th>\n",
              "      <td>1555.86</td>\n",
              "      <td>NaN</td>\n",
              "    </tr>\n",
              "    <tr>\n",
              "      <th>2018-03-27</th>\n",
              "      <td>1497.05</td>\n",
              "      <td>NaN</td>\n",
              "    </tr>\n",
              "  </tbody>\n",
              "</table>\n",
              "</div>"
            ],
            "text/plain": [
              "            Adj. Close  Prediction\n",
              "Date                              \n",
              "2018-03-21     1581.86         NaN\n",
              "2018-03-22     1544.10         NaN\n",
              "2018-03-23     1495.56         NaN\n",
              "2018-03-26     1555.86         NaN\n",
              "2018-03-27     1497.05         NaN"
            ]
          },
          "metadata": {
            "tags": []
          },
          "execution_count": 9
        }
      ]
    },
    {
      "metadata": {
        "id": "rlMaNuqVVQTg",
        "colab_type": "code",
        "colab": {}
      },
      "cell_type": "code",
      "source": [
        "X_forecast = X[-pred:] # set X_forecast equal to last 30\n",
        "X = X[:-pred] # remove last 30 from X"
      ],
      "execution_count": 0,
      "outputs": []
    },
    {
      "metadata": {
        "id": "dLB6vijGVdmO",
        "colab_type": "text"
      },
      "cell_type": "markdown",
      "source": [
        "**To define our y, or output, we will set it equal to our array of the Prediction values and remove the last 30 days where we don’t have any pricing data.**"
      ]
    },
    {
      "metadata": {
        "id": "-h_VBR7SVU5p",
        "colab_type": "code",
        "colab": {}
      },
      "cell_type": "code",
      "source": [
        "y = np.array(df['Prediction'])\n",
        "y = y[:-pred]"
      ],
      "execution_count": 0,
      "outputs": []
    },
    {
      "metadata": {
        "id": "bKFZ-aZyVkcI",
        "colab_type": "text"
      },
      "cell_type": "markdown",
      "source": [
        "# Model Development : Linear Regression\n",
        "**\n",
        "Our data is prepared now, we should now split data into training/test data in order to feed it to our model.**"
      ]
    },
    {
      "metadata": {
        "id": "Td9SJo2eVg3q",
        "colab_type": "code",
        "colab": {}
      },
      "cell_type": "code",
      "source": [
        "X_train, X_test, y_train, y_test = cross_validation.train_test_split(X, y, test_size = 0.2)"
      ],
      "execution_count": 0,
      "outputs": []
    },
    {
      "metadata": {
        "id": "CmsrOLe6Xjyf",
        "colab_type": "text"
      },
      "cell_type": "markdown",
      "source": [
        "**Now, we can initiate our Linear Regression model and fit it with training data. After training, to test the accuracy of the model, we “score” it using the testing data. We can get an r^2 (coefficient of determination) reading based on how far the predicted price was compared to the actual price in the test data set.**"
      ]
    },
    {
      "metadata": {
        "id": "stzqvzFqV4gm",
        "colab_type": "code",
        "outputId": "facb2199-6d21-4a26-c812-43bc9c95ba4e",
        "colab": {
          "base_uri": "https://localhost:8080/",
          "height": 34
        }
      },
      "cell_type": "code",
      "source": [
        "# Training\n",
        "clf = LinearRegression()\n",
        "clf.fit(X_train,y_train)\n",
        "# Testing\n",
        "confidence = clf.score(X_test, y_test)\n",
        "print(\"confidence: \", confidence)"
      ],
      "execution_count": 0,
      "outputs": [
        {
          "output_type": "stream",
          "text": [
            "confidence:  0.9866876730946079\n"
          ],
          "name": "stdout"
        }
      ]
    },
    {
      "metadata": {
        "id": "vQFvzl0nX0pT",
        "colab_type": "text"
      },
      "cell_type": "markdown",
      "source": [
        "**Lastly, we can to predict our X_forecast values:\n",
        "**"
      ]
    },
    {
      "metadata": {
        "id": "Xo_pwln2Xvxy",
        "colab_type": "code",
        "outputId": "32449595-0daa-4bad-ddb4-c88e618e3f6a",
        "colab": {
          "base_uri": "https://localhost:8080/",
          "height": 118
        }
      },
      "cell_type": "code",
      "source": [
        "forecast_prediction = clf.predict(X_forecast)\n",
        "print(forecast_prediction)"
      ],
      "execution_count": 0,
      "outputs": [
        {
          "output_type": "stream",
          "text": [
            "[1500.22266703 1539.06677971 1550.45212308 1536.55796455 1557.45767049\n",
            " 1572.94641493 1574.90244031 1591.10343312 1614.43754022 1603.83885923\n",
            " 1604.33849614 1584.140408   1591.36919744 1616.20221529 1631.1169088\n",
            " 1638.94101031 1646.23358319 1674.96802122 1695.69763801 1684.84382327\n",
            " 1687.84164478 1678.61430766 1667.3033783  1638.8665963  1683.06851763\n",
            " 1678.12530132 1637.98425877 1586.38345884 1650.48581227 1587.96741417]\n"
          ],
          "name": "stdout"
        }
      ]
    },
    {
      "metadata": {
        "id": "xX-r7PdyX21g",
        "colab_type": "code",
        "colab": {}
      },
      "cell_type": "code",
      "source": [
        ""
      ],
      "execution_count": 0,
      "outputs": []
    }
  ]
}