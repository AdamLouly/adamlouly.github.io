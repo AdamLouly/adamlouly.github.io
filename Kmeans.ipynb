{
  "nbformat": 4,
  "nbformat_minor": 0,
  "metadata": {
    "colab": {
      "name": "Kmeans.ipynb",
      "version": "0.3.2",
      "provenance": []
    },
    "kernelspec": {
      "name": "python3",
      "display_name": "Python 3"
    }
  },
  "cells": [
    {
      "metadata": {
        "id": "VL9J_Z-LxQKd",
        "colab_type": "code",
        "colab": {
          "base_uri": "https://localhost:8080/",
          "height": 121
        },
        "outputId": "414f745d-b035-4a75-bc03-ee3b8601c2f4"
      },
      "cell_type": "code",
      "source": [
        "from google.colab import drive\n",
        "drive.mount('/content/gdrive')"
      ],
      "execution_count": 1,
      "outputs": [
        {
          "output_type": "stream",
          "text": [
            "Go to this URL in a browser: https://accounts.google.com/o/oauth2/auth?client_id=947318989803-6bn6qk8qdgf4n4g3pfee6491hc0brc4i.apps.googleusercontent.com&redirect_uri=urn%3Aietf%3Awg%3Aoauth%3A2.0%3Aoob&scope=email%20https%3A%2F%2Fwww.googleapis.com%2Fauth%2Fdocs.test%20https%3A%2F%2Fwww.googleapis.com%2Fauth%2Fdrive%20https%3A%2F%2Fwww.googleapis.com%2Fauth%2Fdrive.photos.readonly%20https%3A%2F%2Fwww.googleapis.com%2Fauth%2Fpeopleapi.readonly&response_type=code\n",
            "\n",
            "Enter your authorization code:\n",
            "··········\n",
            "Mounted at /content/gdrive\n"
          ],
          "name": "stdout"
        }
      ]
    },
    {
      "metadata": {
        "id": "-b2GxQ_FxUsw",
        "colab_type": "code",
        "colab": {}
      },
      "cell_type": "code",
      "source": [
        "import pandas as pd\n",
        "filename= \"gdrive/My Drive/Colab Notebooks/combi2.xlsx\"\n",
        "df=pd.read_excel(filename)"
      ],
      "execution_count": 0,
      "outputs": []
    },
    {
      "metadata": {
        "id": "TdeOZn_VyVO7",
        "colab_type": "code",
        "colab": {}
      },
      "cell_type": "code",
      "source": [
        "dfn=df[['TZ1',' TZ2 ']]"
      ],
      "execution_count": 0,
      "outputs": []
    },
    {
      "metadata": {
        "id": "1kfjidgMyXwk",
        "colab_type": "code",
        "colab": {}
      },
      "cell_type": "code",
      "source": [
        "dfn.columns=['TZ1','TZ2']"
      ],
      "execution_count": 0,
      "outputs": []
    },
    {
      "metadata": {
        "id": "ru6HnDjdzlkv",
        "colab_type": "code",
        "colab": {}
      },
      "cell_type": "code",
      "source": [
        "import matplotlib.pyplot as plt  \n",
        "%matplotlib inline\n",
        "import numpy as np  \n",
        "from sklearn.cluster import KMeans \n"
      ],
      "execution_count": 0,
      "outputs": []
    },
    {
      "metadata": {
        "id": "JGddFBJpzsNx",
        "colab_type": "code",
        "colab": {}
      },
      "cell_type": "code",
      "source": [
        "X = np.array(dfn)"
      ],
      "execution_count": 0,
      "outputs": []
    },
    {
      "metadata": {
        "id": "yQDLXCXK0IlE",
        "colab_type": "code",
        "colab": {
          "base_uri": "https://localhost:8080/",
          "height": 282
        },
        "outputId": "71a958e4-e391-4e89-8fa9-0fdd1c782ab7"
      },
      "cell_type": "code",
      "source": [
        "plt.scatter(X[:,0],X[:,1], label='True Position')  "
      ],
      "execution_count": 31,
      "outputs": [
        {
          "output_type": "execute_result",
          "data": {
            "text/plain": [
              "<matplotlib.collections.PathCollection at 0x7f44e5267b70>"
            ]
          },
          "metadata": {
            "tags": []
          },
          "execution_count": 31
        },
        {
          "output_type": "display_data",
          "data": {
            "image/png": "[encoded data removed]",
            "text/plain": [
              "<matplotlib.figure.Figure at 0x7f44e5e4cf60>"
            ]
          },
          "metadata": {
            "tags": []
          }
        }
      ]
    },
    {
      "metadata": {
        "id": "50nJpgA10KUK",
        "colab_type": "code",
        "colab": {
          "base_uri": "https://localhost:8080/",
          "height": 67
        },
        "outputId": "dcc2ecd3-63ef-4185-96ba-fd682cd129fd"
      },
      "cell_type": "code",
      "source": [
        "kmeans = KMeans(n_clusters=3)  \n",
        "kmeans.fit(X)  "
      ],
      "execution_count": 33,
      "outputs": [
        {
          "output_type": "execute_result",
          "data": {
            "text/plain": [
              "KMeans(algorithm='auto', copy_x=True, init='k-means++', max_iter=300,\n",
              "    n_clusters=3, n_init=10, n_jobs=None, precompute_distances='auto',\n",
              "    random_state=None, tol=0.0001, verbose=0)"
            ]
          },
          "metadata": {
            "tags": []
          },
          "execution_count": 33
        }
      ]
    },
    {
      "metadata": {
        "id": "WkzDZjk_0Msc",
        "colab_type": "code",
        "colab": {
          "base_uri": "https://localhost:8080/",
          "height": 67
        },
        "outputId": "170ef67f-8f54-4bd5-9cf3-074a95d64a9b"
      },
      "cell_type": "code",
      "source": [
        "print(kmeans.cluster_centers_)"
      ],
      "execution_count": 34,
      "outputs": [
        {
          "output_type": "stream",
          "text": [
            "[[15.65781684 16.72438737]\n",
            " [23.4627822  23.6749    ]\n",
            " [19.45798092 20.29914474]]\n"
          ],
          "name": "stdout"
        }
      ]
    },
    {
      "metadata": {
        "id": "sObn9Z0_0RFv",
        "colab_type": "code",
        "colab": {
          "base_uri": "https://localhost:8080/",
          "height": 185
        },
        "outputId": "e4895b74-3ac5-4e16-f031-1c04589a0dca"
      },
      "cell_type": "code",
      "source": [
        "print(kmeans.labels_)  \n"
      ],
      "execution_count": 35,
      "outputs": [
        {
          "output_type": "stream",
          "text": [
            "[0 0 0 0 2 2 0 0 0 0 0 0 2 0 0 2 2 0 0 0 0 0 0 0 0 0 2 0 0 2 2 2 2 2 0 0 2\n",
            " 2 2 2 2 0 0 0 2 2 0 0 0 0 0 0 0 0 2 0 0 2 2 2 2 2 2 0 2 2 2 2 2 0 0 2 2 2\n",
            " 2 2 0 0 2 2 2 2 2 0 0 2 2 1 1 1 2 0 2 1 1 1 2 2 0 2 2 2 1 2 2 0 2 2 2 2 2\n",
            " 2 0 2 2 2 2 2 2 0 2 1 1 2 1 2 0 2 2 1 1 1 1 2 2 2 1 1 1 1 2 2 1 1 1 1 1 2\n",
            " 2 2 2 1 1 2 2 1 1 1 1 1 1 2 2 2 2 1 1 1 2 1 1 1 1 1 2 2 1 1 1 1 1 1 1 1 1\n",
            " 1 1 1 1 1 1 1 1 1 1 1 1 1 1 1 1 1 1 2 1 1 1 1 1 2 2 1 1 1 1 1 1 2 1 1 1 1\n",
            " 1 1 1 1 1 1 1 1 1 1 1 1 1 1 2 2 2 2 1 1 1 1 2 2 1 1 1 1 1 1 2 1 1 1 2 2 2\n",
            " 0 2 2 1 1 1 2 2 1 1 1 1 1 0 0 2 2 2 2 2 2 0 2 2 2 2 2 2 0 2 2 2 2 2 2 0 2\n",
            " 2 2 2 2 2 2 1 1 2 2 2 2 0 2 0 2 2 2 0 0 2 2 2 2 0 0 0 0 0 0 0 0 0 0 2 2 2\n",
            " 2 0 0 0 0 2 2 2 2 0 0 0 0 0 2 0 0 0 0 2 2 0 0 0 0 0 0 0 0 0 0 0]\n"
          ],
          "name": "stdout"
        }
      ]
    },
    {
      "metadata": {
        "id": "54iHHk9x0T0p",
        "colab_type": "code",
        "colab": {
          "base_uri": "https://localhost:8080/",
          "height": 282
        },
        "outputId": "8a135d39-987a-4d29-bc36-4fab68b6d85d"
      },
      "cell_type": "code",
      "source": [
        "plt.scatter(X[:,0],X[:,1], c=kmeans.labels_, cmap='rainbow')  "
      ],
      "execution_count": 36,
      "outputs": [
        {
          "output_type": "execute_result",
          "data": {
            "text/plain": [
              "<matplotlib.collections.PathCollection at 0x7f44e2a13ac8>"
            ]
          },
          "metadata": {
            "tags": []
          },
          "execution_count": 36
        },
        {
          "output_type": "display_data",
          "data": {
            "image/png": "[encoded data removed]",
            "text/plain": [
              "<matplotlib.figure.Figure at 0x7f44e5267e48>"
            ]
          },
          "metadata": {
            "tags": []
          }
        }
      ]
    },
    {
      "metadata": {
        "id": "lTQxcCO30Wp7",
        "colab_type": "code",
        "colab": {}
      },
      "cell_type": "code",
      "source": [
        ""
      ],
      "execution_count": 0,
      "outputs": []
    }
  ]
}